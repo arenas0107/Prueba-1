{
 "cells": [
  {
   "cell_type": "markdown",
   "metadata": {
    "id": "UCjlyTyyJm9R"
   },
   "source": [
    "<h2>1.Introducci&oacute;n</h2>\n",
    "<p>Siempre que estamos haciendo una investigaci&oacute;n, necesitamos formular hip&oacute;tesis que luego podamos probar. A veces aceptamos estas hip&oacute;tesis; otras veces, los rechazamos. Para tomar las decisiones correctas, una empresa debe ser capaz de entender si est&aacute; haciendo o no las suposiciones correctas. En este proyecto, comparar&aacute; las preferencias musicales de las ciudades de Springfield y Shelbyville. Estudiar&aacute; datos reales de Yandex.Music para probar las hip&oacute;tesis que se indican a continuaci&oacute;n y comparar el comportamiento de los usuarios de estas dos ciudades.</p>\n",
    "<h3>Objetivo:</h3>\n",
    "<p>Probar tres hip&oacute;tesis: La actividad de los usuarios difiere seg&uacute;n el d&iacute;a de la semana y de una ciudad a otra. Los lunes por la ma&ntilde;ana, los residentes de Springfield y Shelbyville escuchan diferentes g&eacute;neros. Esto tambi&eacute;n es cierto para los viernes por la noche. Los oyentes de Springfield y Shelbyville tienen diferentes preferencias. En Springfield, prefieren el pop, mientras que Shelbyville tiene m&aacute;s fan&aacute;ticos del rap.</p>\n",
    "<h3>Etapas:</h3>\n",
    "<p>Los datos sobre el comportamiento del usuario se almacenan en el archivo /datasets/music_project_en.csv. No hay informaci&oacute;n sobre la calidad de los datos, por lo que deber&aacute; explorarlos antes de probar las hip&oacute;tesis.<br /><br /> En primer lugar, evaluar&aacute; la calidad de los datos y ver&aacute; si sus problemas son significativos. Luego, durante el preprocesamiento de datos, intentar&aacute; tener en cuenta los problemas m&aacute;s cr&iacute;ticos.<br /><br /> Tu proyecto constar&aacute; de tres etapas:<br /><br /> Resumen de datos<br /> Preprocesamiento de datos<br /> Comprobaci&oacute;n de las hip&oacute;tesis</p>"
   ]
  },
  {
   "cell_type": "markdown",
   "metadata": {
    "id": "uFd9fGjzJm9V"
   },
   "source": [
    "Para cada una de las opciones, escribe en la siguiente celda markdown si la identificaste como un problema real en los datos o no. Justifica tu razonamiento. Por ejemplo, si crees que la primera opción es correcta, escríbelo y explica por qué piensas que es correcta."
   ]
  },
  {
   "cell_type": "markdown",
   "metadata": {
    "id": "06IMoD_nRmtf"
   },
   "source": [
    "----------\n"
   ]
  },
  {
   "cell_type": "markdown",
   "metadata": {},
   "source": [
    "## Resumen de los datos"
   ]
  },
  {
   "cell_type": "code",
   "execution_count": 8,
   "metadata": {},
   "outputs": [
    {
     "name": "stdout",
     "output_type": "stream",
     "text": [
      "          userID  Track     artist  genre       City        time     Day\n",
      "count      65079  63736      57512  63881        65079     65079   65079\n",
      "unique     41748  39666      37806    268            2     20392       3\n",
      "top     A8AE9169  Brand  Kartvelli    pop  Springfield  08:14:07  Friday\n",
      "freq          76    136        136   8850        45360        14   23149\n"
     ]
    }
   ],
   "source": [
    "import pandas as pd\n",
    "\n",
    "# Ruta dek archivo\n",
    "ruta_archivo = r'C:\\Users\\cesar\\OneDrive\\Escritorio\\Portafolio Github\\Sprint 1\\music_project_en.csv'\n",
    "\n",
    "# Lee el archivo CSV\n",
    "df = pd.read_csv(ruta_archivo)\n",
    "\n",
    "# Resumen de los datos\n",
    "print(df.describe())\n"
   ]
  },
  {
   "cell_type": "code",
   "execution_count": 10,
   "metadata": {},
   "outputs": [
    {
     "name": "stdout",
     "output_type": "stream",
     "text": [
      "     userID                        Track            artist   genre  \\\n",
      "0  FFB692EC            Kamigata To Boots  The Mass Missile    rock   \n",
      "1  55204538  Delayed Because of Accident  Andreas Rönnberg    rock   \n",
      "2    20EC38            Funiculì funiculà       Mario Lanza     pop   \n",
      "3  A3DD03C9        Dragons in the Sunset        Fire + Ice    folk   \n",
      "4  E2DC1FAE                  Soul People        Space Echo   dance   \n",
      "5  842029A1                       Chains          Obladaet  rusrap   \n",
      "6  4CB90AA5                         True      Roman Messer   dance   \n",
      "7  F03E1C1F             Feeling This Way   Polina Griffith   dance   \n",
      "8  8FA1D3BE                     L’estate       Julia Dalia  ruspop   \n",
      "9  E772D5C0                    Pessimist               NaN   dance   \n",
      "\n",
      "        City        time        Day  \n",
      "0  Shelbyville  20:28:33  Wednesday  \n",
      "1  Springfield  14:07:09     Friday  \n",
      "2  Shelbyville  20:58:07  Wednesday  \n",
      "3  Shelbyville  08:37:09     Monday  \n",
      "4  Springfield  08:34:34     Monday  \n",
      "5  Shelbyville  13:09:41     Friday  \n",
      "6  Springfield  13:00:07  Wednesday  \n",
      "7  Springfield  20:47:49  Wednesday  \n",
      "8  Springfield  09:17:40     Friday  \n",
      "9  Shelbyville  21:20:49  Wednesday  \n"
     ]
    }
   ],
   "source": [
    "# Vamos a imprimir las primeras 10 celdas de la tabla\n",
    "print(df.head(10))"
   ]
  },
  {
   "cell_type": "code",
   "execution_count": 12,
   "metadata": {},
   "outputs": [
    {
     "name": "stdout",
     "output_type": "stream",
     "text": [
      "<class 'pandas.core.frame.DataFrame'>\n",
      "RangeIndex: 65079 entries, 0 to 65078\n",
      "Data columns (total 7 columns):\n",
      " #   Column    Non-Null Count  Dtype \n",
      "---  ------    --------------  ----- \n",
      " 0     userID  65079 non-null  object\n",
      " 1   Track     63736 non-null  object\n",
      " 2   artist    57512 non-null  object\n",
      " 3   genre     63881 non-null  object\n",
      " 4     City    65079 non-null  object\n",
      " 5   time      65079 non-null  object\n",
      " 6   Day       65079 non-null  object\n",
      "dtypes: object(7)\n",
      "memory usage: 3.5+ MB\n",
      "None\n"
     ]
    }
   ],
   "source": [
    "# Revisemos la informacion general\n",
    "print(df.info())"
   ]
  },
  {
   "cell_type": "markdown",
   "metadata": {},
   "source": [
    "<p>Estos son los datos que el cliente nos proporcion&oacute;. Tienen el formato de una lista de Python, con las siguientes columnas de datos:</p>\n",
    "<ul>\n",
    "<li><strong>user_id:</strong>&nbsp;Identificador &uacute;nico para cada usuario.</li>\n",
    "<li><strong>user_name:</strong>&nbsp;El nombre del usuario.</li>\n",
    "<li><strong>user_age:</strong>&nbsp;La edad del usuario.</li>\n",
    "<li><strong>fav_categories:</strong>&nbsp;Categor&iacute;as favoritas de los art&iacute;culos que compr&oacute; el usuario, como 'ELECTRONICS', 'SPORT' y 'BOOKS' (ELECTR&Oacute;NICOS, DEPORTES y LIBROS), etc.</li>\n",
    "<li><strong>total_spendings:</strong>&nbsp;Una lista de n&uacute;meros enteros que indican la cantidad total gastada en cada una de las categor&iacute;as favoritas.</li>\n",
    "</ul>"
   ]
  },
  {
   "cell_type": "markdown",
   "metadata": {},
   "source": [
    "<h2>Conclusiones</h2>\n",
    "<p>Cada fila de la tabla almacena datos en una pista que se reproduzca. Algunas columnas describen la canci&oacute;n en s&iacute;: su t&iacute;tulo, artista y g&eacute;nero. El resto transmite informaci&oacute;n sobre el usuario: la ciudad de la que proviene, la hora en la que reprodujo la pista.<br /><br />Est&aacute; claro que los datos son suficientes para probar las hip&oacute;tesis. Sin embargo, faltan valores.<br /><br />Para avanzar, necesitamos preprocesar los datos.</p>"
   ]
  },
  {
   "cell_type": "markdown",
   "metadata": {},
   "source": [
    "<h2>Preprocesamiento de datos:</h2>\n",
    "<p><br />Correjiremos el formato en los encabezados de las columnas y revisaremos los valores que faltan.</p>\n",
    "<p>A continuaci&oacute;n, compruebaremos si hay duplicados en los datos.</p>"
   ]
  },
  {
   "cell_type": "code",
   "execution_count": 17,
   "metadata": {},
   "outputs": [
    {
     "name": "stdout",
     "output_type": "stream",
     "text": [
      "Index(['  userID', 'Track', 'artist', 'genre', '  City  ', 'time', 'Day'], dtype='object')\n"
     ]
    }
   ],
   "source": [
    "print(df.columns)"
   ]
  },
  {
   "cell_type": "markdown",
   "metadata": {},
   "source": [
    "<p><span data-bm=\"124\">Cambiaremos el nombre de las columnas deacuerdo a las reglas del buen estilo</span></p>\n",
    "<ul>\n",
    "<li><span data-bm=\"170\">Todos&nbsp;</span><span data-bm=\"172\">los&nbsp;</span><span data-bm=\"174\">caracteres&nbsp;</span><span data-bm=\"176\">deben&nbsp;</span><span data-bm=\"178\">estar&nbsp;</span><span data-bm=\"180\">en</span><span data-bm=\"182\">min&uacute;sculas</span></li>\n",
    "<li><span data-bm=\"182\">Si el nombre tiene varias palabras usar snake_case</span></li>\n",
    "<li><span data-bm=\"184\">Eliminar&nbsp;</span><span data-bm=\"186\">espacios</span></li>\n",
    "</ul>"
   ]
  },
  {
   "cell_type": "code",
   "execution_count": 20,
   "metadata": {},
   "outputs": [],
   "source": [
    "# Renombramos las columnas\n",
    "df = df.rename(columns={'  userID': 'user_id', \n",
    "                        'Track': 'track', \n",
    "                        'artist': 'artist', \n",
    "                        'genre': 'genre', \n",
    "                        '  City  ': 'city', \n",
    "                        'time': 'time', \n",
    "                        'Day': 'day'}\n",
    "              )"
   ]
  },
  {
   "cell_type": "markdown",
   "metadata": {},
   "source": [
    "Revisemnos las modificaciones a los nombres de las columnas"
   ]
  },
  {
   "cell_type": "code",
   "execution_count": 23,
   "metadata": {},
   "outputs": [
    {
     "name": "stdout",
     "output_type": "stream",
     "text": [
      "Index(['user_id', 'track', 'artist', 'genre', 'city', 'time', 'day'], dtype='object')\n"
     ]
    }
   ],
   "source": [
    "print(df.columns)"
   ]
  },
  {
   "cell_type": "markdown",
   "metadata": {},
   "source": [
    "## Valores faltantes\n",
    "lo primero sera encontrar los valores faltantes en la tabla, para eso usaremos dos metodos de pandas"
   ]
  },
  {
   "cell_type": "code",
   "execution_count": 26,
   "metadata": {},
   "outputs": [
    {
     "name": "stdout",
     "output_type": "stream",
     "text": [
      "user_id       0\n",
      "track      1343\n",
      "artist     7567\n",
      "genre      1198\n",
      "city          0\n",
      "time          0\n",
      "day           0\n",
      "dtype: int64\n"
     ]
    }
   ],
   "source": [
    "print(df.isnull().sum())"
   ]
  },
  {
   "cell_type": "markdown",
   "metadata": {},
   "source": [
    "<p>No todos los valores faltantes afectan la investigaci&oacute;n. Por ejemplo, los valores faltantes en track y&nbsp;artist no son cr&iacute;ticos. Simplemente puede reemplazarlos con marcadores claros.</p>\n",
    "<p>Sin embargo, los valores faltantes en el g&eacute;nero pueden afectar la comparaci&oacute;n de las preferencias musicales en Springfield y Shelbyville. Ser&iacute;a &uacute;til comprender las razones por las que faltan los datos e intentar compensarlas. Sin embargo, no tenemos esa oportunidad en este proyecto. Por lo tanto, deberemos:</p>\n",
    "<ul>\n",
    "<li>Completar estos valores faltantes con marcadores.</li>\n",
    "<li>Evaluar cu&aacute;nto pueden afectar los valores faltantes a sus c&aacute;lculos.</li>\n",
    "<li>Reemplazar los valores faltantes en track, artist y genre con la cadena \"unknow\".&nbsp;</li>\n",
    "</ul>"
   ]
  },
  {
   "cell_type": "code",
   "execution_count": 32,
   "metadata": {},
   "outputs": [],
   "source": [
    "# Funcion para remplazar los valores faltantes con 'Unknow'\n",
    "for col in df.columns:\n",
    "    df[col] = df[col].fillna('unknown')"
   ]
  },
  {
   "cell_type": "markdown",
   "metadata": {},
   "source": [
    "aseguremonos de no tener mas valores faltantes una vez mas"
   ]
  },
  {
   "cell_type": "code",
   "execution_count": 37,
   "metadata": {},
   "outputs": [
    {
     "name": "stdout",
     "output_type": "stream",
     "text": [
      "user_id    0\n",
      "track      0\n",
      "artist     0\n",
      "genre      0\n",
      "city       0\n",
      "time       0\n",
      "day        0\n",
      "dtype: int64\n"
     ]
    }
   ],
   "source": [
    "print(df.isnull().sum())"
   ]
  },
  {
   "cell_type": "markdown",
   "metadata": {},
   "source": [
    "## Valores duplicados\n",
    "Encontremos el numero de duplcados explicitos "
   ]
  },
  {
   "cell_type": "code",
   "execution_count": 40,
   "metadata": {},
   "outputs": [
    {
     "name": "stdout",
     "output_type": "stream",
     "text": [
      "3826\n"
     ]
    }
   ],
   "source": [
    "print(df.duplicated().sum())"
   ]
  },
  {
   "cell_type": "code",
   "execution_count": 42,
   "metadata": {},
   "outputs": [],
   "source": [
    "# Eliminar valores duplicados\n",
    "df = df.drop_duplicates()"
   ]
  },
  {
   "cell_type": "code",
   "execution_count": 48,
   "metadata": {},
   "outputs": [
    {
     "name": "stdout",
     "output_type": "stream",
     "text": [
      "0\n"
     ]
    }
   ],
   "source": [
    "# Verificamos una vez mas los valores duplicados\n",
    "print(df.duplicated().sum())"
   ]
  },
  {
   "cell_type": "markdown",
   "metadata": {},
   "source": [
    "<p>Ahora que se eliminaron los valores duplicados explicitos, continuaremos con los implicitos, por ejemplo:</p>\n",
    "<p>en la columna de g&eacute;nero. Podemos encontrar el mismo escrito de diferentes maneras. Estos errores tambi&eacute;n afectarian el resultado. Revisemos</p>\n",
    "<p>&nbsp;</p>"
   ]
  },
  {
   "cell_type": "code",
   "execution_count": 53,
   "metadata": {},
   "outputs": [
    {
     "name": "stdout",
     "output_type": "stream",
     "text": [
      "['rock' 'pop' 'folk' 'dance' 'rusrap' 'ruspop' 'world' 'electronic'\n",
      " 'unknown' 'alternative' 'children' 'rnb' 'hip' 'jazz' 'postrock' 'latin'\n",
      " 'classical' 'metal' 'reggae' 'triphop' 'blues' 'instrumental' 'rusrock'\n",
      " 'dnb' 'türk' 'post' 'country' 'psychedelic' 'conjazz' 'indie'\n",
      " 'posthardcore' 'local' 'avantgarde' 'punk' 'videogame' 'techno' 'house'\n",
      " 'christmas' 'melodic' 'caucasian' 'reggaeton' 'soundtrack' 'singer' 'ska'\n",
      " 'salsa' 'ambient' 'film' 'western' 'rap' 'beats' \"hard'n'heavy\"\n",
      " 'progmetal' 'minimal' 'tropical' 'contemporary' 'new' 'soul' 'holiday'\n",
      " 'german' 'jpop' 'spiritual' 'urban' 'gospel' 'nujazz' 'folkmetal'\n",
      " 'trance' 'miscellaneous' 'anime' 'hardcore' 'progressive' 'korean'\n",
      " 'numetal' 'vocal' 'estrada' 'tango' 'loungeelectronic' 'classicmetal'\n",
      " 'dubstep' 'club' 'deep' 'southern' 'black' 'folkrock' 'fitness' 'french'\n",
      " 'disco' 'religious' 'hiphop' 'drum' 'extrememetal' 'türkçe'\n",
      " 'experimental' 'easy' 'metalcore' 'modern' 'argentinetango' 'old' 'swing'\n",
      " 'breaks' 'eurofolk' 'stonerrock' 'industrial' 'funk' 'middle' 'variété'\n",
      " 'other' 'adult' 'christian' 'thrash' 'gothic' 'international' 'muslim'\n",
      " 'relax' 'schlager' 'caribbean' 'nu' 'breakbeat' 'comedy' 'chill' 'newage'\n",
      " 'specialty' 'uzbek' 'k-pop' 'balkan' 'chinese' 'meditative' 'dub' 'power'\n",
      " 'death' 'grime' 'arabesk' 'romance' 'flamenco' 'leftfield' 'european'\n",
      " 'tech' 'newwave' 'dancehall' 'mpb' 'piano' 'top' 'bigroom' 'opera'\n",
      " 'celtic' 'tradjazz' 'acoustic' 'epicmetal' 'hip-hop' 'historisch'\n",
      " 'downbeat' 'downtempo' 'africa' 'audiobook' 'jewish' 'sängerportrait'\n",
      " 'deutschrock' 'eastern' 'action' 'future' 'electropop' 'folklore'\n",
      " 'bollywood' 'marschmusik' 'rnr' 'karaoke' 'indian' 'rancheras'\n",
      " 'afrikaans' 'rhythm' 'sound' 'deutschspr' 'trip' 'lovers' 'choral'\n",
      " 'dancepop' 'retro' 'smooth' 'mexican' 'brazilian' 'ïîï' 'mood' 'surf'\n",
      " 'gangsta' 'inspirational' 'idm' 'ethnic' 'bluegrass' 'broadway'\n",
      " 'animated' 'americana' 'karadeniz' 'rockabilly' 'colombian' 'self' 'hop'\n",
      " 'sertanejo' 'japanese' 'canzone' 'lounge' 'sport' 'ragga' 'traditional'\n",
      " 'gitarre' 'frankreich' 'emo' 'laiko' 'cantopop' 'glitch' 'documentary'\n",
      " 'oceania' 'popeurodance' 'dark' 'vi' 'grunge' 'hardstyle' 'samba'\n",
      " 'garage' 'art' 'folktronica' 'entehno' 'mediterranean' 'chamber' 'cuban'\n",
      " 'taraftar' 'gypsy' 'hardtechno' 'shoegazing' 'bossa' 'latino' 'worldbeat'\n",
      " 'malaysian' 'baile' 'ghazal' 'arabic' 'popelectronic' 'acid' 'kayokyoku'\n",
      " 'neoklassik' 'tribal' 'tanzorchester' 'native' 'independent' 'cantautori'\n",
      " 'handsup' 'punjabi' 'synthpop' 'rave' 'französisch' 'quebecois' 'speech'\n",
      " 'soulful' 'jam' 'ram' 'horror' 'orchestral' 'neue' 'roots' 'slow'\n",
      " 'jungle' 'indipop' 'axé' 'fado' 'showtunes' 'arena' 'irish' 'mandopop'\n",
      " 'forró' 'dirty' 'regional']\n"
     ]
    }
   ],
   "source": [
    "# Revisamos los valores unicos en los nombres de 'genre'\n",
    "print(df['genre'].unique())"
   ]
  },
  {
   "cell_type": "markdown",
   "metadata": {},
   "source": [
    "Echando un vistazo encontramos que hay valores implicitos en el genero de hiphop. El nombre se escribe incorrectamente o de formas alternativas.\n",
    "podemos encontrarlo como: hip, hop y hip-hop\n",
    "Vamos a solucionarlo con una funcion para corregir el nombre "
   ]
  },
  {
   "cell_type": "code",
   "execution_count": 56,
   "metadata": {},
   "outputs": [],
   "source": [
    "# funcion para remplazar valores implicitos\n",
    "def replace_wrong_genres(wrong_genres, correct_genre):\n",
    "    for wrong_genre in wrong_genres:\n",
    "        df.loc[df['genre'] == wrong_genre, 'genre'] = correct_genre"
   ]
  },
  {
   "cell_type": "markdown",
   "metadata": {},
   "source": [
    "Unificamos todos los valores con el nombre de hiphop. Revisemos una vez mas "
   ]
  },
  {
   "cell_type": "code",
   "execution_count": 59,
   "metadata": {},
   "outputs": [
    {
     "name": "stdout",
     "output_type": "stream",
     "text": [
      "['rock' 'pop' 'folk' 'dance' 'rusrap' 'ruspop' 'world' 'electronic'\n",
      " 'unknown' 'alternative' 'children' 'rnb' 'hip' 'jazz' 'postrock' 'latin'\n",
      " 'classical' 'metal' 'reggae' 'triphop' 'blues' 'instrumental' 'rusrock'\n",
      " 'dnb' 'türk' 'post' 'country' 'psychedelic' 'conjazz' 'indie'\n",
      " 'posthardcore' 'local' 'avantgarde' 'punk' 'videogame' 'techno' 'house'\n",
      " 'christmas' 'melodic' 'caucasian' 'reggaeton' 'soundtrack' 'singer' 'ska'\n",
      " 'salsa' 'ambient' 'film' 'western' 'rap' 'beats' \"hard'n'heavy\"\n",
      " 'progmetal' 'minimal' 'tropical' 'contemporary' 'new' 'soul' 'holiday'\n",
      " 'german' 'jpop' 'spiritual' 'urban' 'gospel' 'nujazz' 'folkmetal'\n",
      " 'trance' 'miscellaneous' 'anime' 'hardcore' 'progressive' 'korean'\n",
      " 'numetal' 'vocal' 'estrada' 'tango' 'loungeelectronic' 'classicmetal'\n",
      " 'dubstep' 'club' 'deep' 'southern' 'black' 'folkrock' 'fitness' 'french'\n",
      " 'disco' 'religious' 'hiphop' 'drum' 'extrememetal' 'türkçe'\n",
      " 'experimental' 'easy' 'metalcore' 'modern' 'argentinetango' 'old' 'swing'\n",
      " 'breaks' 'eurofolk' 'stonerrock' 'industrial' 'funk' 'middle' 'variété'\n",
      " 'other' 'adult' 'christian' 'thrash' 'gothic' 'international' 'muslim'\n",
      " 'relax' 'schlager' 'caribbean' 'nu' 'breakbeat' 'comedy' 'chill' 'newage'\n",
      " 'specialty' 'uzbek' 'k-pop' 'balkan' 'chinese' 'meditative' 'dub' 'power'\n",
      " 'death' 'grime' 'arabesk' 'romance' 'flamenco' 'leftfield' 'european'\n",
      " 'tech' 'newwave' 'dancehall' 'mpb' 'piano' 'top' 'bigroom' 'opera'\n",
      " 'celtic' 'tradjazz' 'acoustic' 'epicmetal' 'hip-hop' 'historisch'\n",
      " 'downbeat' 'downtempo' 'africa' 'audiobook' 'jewish' 'sängerportrait'\n",
      " 'deutschrock' 'eastern' 'action' 'future' 'electropop' 'folklore'\n",
      " 'bollywood' 'marschmusik' 'rnr' 'karaoke' 'indian' 'rancheras'\n",
      " 'afrikaans' 'rhythm' 'sound' 'deutschspr' 'trip' 'lovers' 'choral'\n",
      " 'dancepop' 'retro' 'smooth' 'mexican' 'brazilian' 'ïîï' 'mood' 'surf'\n",
      " 'gangsta' 'inspirational' 'idm' 'ethnic' 'bluegrass' 'broadway'\n",
      " 'animated' 'americana' 'karadeniz' 'rockabilly' 'colombian' 'self' 'hop'\n",
      " 'sertanejo' 'japanese' 'canzone' 'lounge' 'sport' 'ragga' 'traditional'\n",
      " 'gitarre' 'frankreich' 'emo' 'laiko' 'cantopop' 'glitch' 'documentary'\n",
      " 'oceania' 'popeurodance' 'dark' 'vi' 'grunge' 'hardstyle' 'samba'\n",
      " 'garage' 'art' 'folktronica' 'entehno' 'mediterranean' 'chamber' 'cuban'\n",
      " 'taraftar' 'gypsy' 'hardtechno' 'shoegazing' 'bossa' 'latino' 'worldbeat'\n",
      " 'malaysian' 'baile' 'ghazal' 'arabic' 'popelectronic' 'acid' 'kayokyoku'\n",
      " 'neoklassik' 'tribal' 'tanzorchester' 'native' 'independent' 'cantautori'\n",
      " 'handsup' 'punjabi' 'synthpop' 'rave' 'französisch' 'quebecois' 'speech'\n",
      " 'soulful' 'jam' 'ram' 'horror' 'orchestral' 'neue' 'roots' 'slow'\n",
      " 'jungle' 'indipop' 'axé' 'fado' 'showtunes' 'arena' 'irish' 'mandopop'\n",
      " 'forró' 'dirty' 'regional']\n"
     ]
    }
   ],
   "source": [
    "print(df['genre'].unique())"
   ]
  },
  {
   "cell_type": "markdown",
   "metadata": {},
   "source": [
    "<h2>Conclusiones</h2>\n",
    "<p><br />Detectamos tres problemas con los datos:</p>\n",
    "<ul>\n",
    "<li>Estilos de encabezado incorrectos e inconsistentes</li>\n",
    "<li>Valores faltantes</li>\n",
    "<li>Valores duplicados explicitos e impl&iacute;citos</li>\n",
    "</ul>\n",
    "<p>&nbsp;</p>\n",
    "<p>Se han estandarizado el nombre de las columnas.</p>\n",
    "<p>Se eliminaron valores duplicados</p>\n",
    "<p>Todos los valores faltantes se han reemplazado por \"unknow\".&nbsp;</p>"
   ]
  },
  {
   "cell_type": "markdown",
   "metadata": {},
   "source": [
    "<h2>Hip&oacute;tesis 1:</h2>\n",
    "<p>Comparaci&oacute;n del comportamiento de los usuarios en dos ciudades</p>\n",
    "<p>Seg&uacute;n la primera hip&oacute;tesis, los usuarios de Springfield y Shelbyville escuchan m&uacute;sica de forma diferente. <em>Compru&eacute;belo con los datos de tres d&iacute;as de la semana: lunes, mi&eacute;rcoles y viernes.</em></p>\n",
    "<p>Divida a los usuarios en grupos por ciudad.</p>\n",
    "<p>Compare cu&aacute;ntas canciones reprodujo cada grupo los lunes, mi&eacute;rcoles y viernes.<br />Para practicar, realice cada c&aacute;lculo por separado.</p>\n",
    "<p>Eval&uacute;e la actividad de los usuarios en cada ciudad. Agrupe los datos por ciudad y determine el n&uacute;mero de canciones reproducidas en cada grupo.</p>"
   ]
  },
  {
   "cell_type": "code",
   "execution_count": 92,
   "metadata": {},
   "outputs": [
    {
     "name": "stdout",
     "output_type": "stream",
     "text": [
      "city\n",
      "Springfield    42741\n",
      "Shelbyville    18512\n",
      "Name: count, dtype: int64\n"
     ]
    }
   ],
   "source": [
    "# Contaremos el numero de 'Tracks' reproducidas en cada ciudad\n",
    "print(df[\"city\"].value_counts())"
   ]
  },
  {
   "attachments": {},
   "cell_type": "markdown",
   "metadata": {},
   "source": [
    "Encontramos que Springfield tiene mayor numero de reproducciones que Shelbyville, pero eso no implica que los habitantes escuchen mas musica, podria deberse a una diferencia en el tamaño de la ciudad.\n",
    "ahora haremos un analisis por dia de la semana para encontrar el numero de reproducciones en los dias Lunes, Miercoles y Viernes\n",
    "\n"
   ]
  },
  {
   "cell_type": "code",
   "execution_count": 97,
   "metadata": {},
   "outputs": [
    {
     "name": "stdout",
     "output_type": "stream",
     "text": [
      "day\n",
      "Friday       21840\n",
      "Monday       21354\n",
      "Wednesday    18059\n",
      "Name: count, dtype: int64\n"
     ]
    }
   ],
   "source": [
    "print(df['day'].value_counts())"
   ]
  },
  {
   "cell_type": "markdown",
   "metadata": {},
   "source": [
    "Encontramos una diferencia en las reproducciones por dia pero haremos un analisis mas detallado para revisar el numero de reproducciones por dia y por ciudad."
   ]
  },
  {
   "cell_type": "code",
   "execution_count": 100,
   "metadata": {},
   "outputs": [],
   "source": [
    "def number_tracks(day, city):\n",
    "    track_list = df[(df['day'] == day) & (df['city'] == city)]\n",
    "    track_list_count = track_list['user_id'].count()\n",
    "    return track_list_count"
   ]
  },
  {
   "cell_type": "code",
   "execution_count": 102,
   "metadata": {},
   "outputs": [
    {
     "name": "stdout",
     "output_type": "stream",
     "text": [
      "15740\n"
     ]
    }
   ],
   "source": [
    "# Numero de reproducciones en Springfield en Lunes \n",
    "print(number_tracks('Monday', 'Springfield'))"
   ]
  },
  {
   "cell_type": "code",
   "execution_count": 110,
   "metadata": {},
   "outputs": [
    {
     "name": "stdout",
     "output_type": "stream",
     "text": [
      "5614\n"
     ]
    }
   ],
   "source": [
    "# Numero de reproducciones en Shelbyville en Lunes\n",
    "print(number_tracks('Monday', 'Shelbyville'))"
   ]
  },
  {
   "cell_type": "code",
   "execution_count": 112,
   "metadata": {},
   "outputs": [
    {
     "name": "stdout",
     "output_type": "stream",
     "text": [
      "11056\n"
     ]
    }
   ],
   "source": [
    "# Numero de reproducciones en Springfield en Miercoles\n",
    "print(number_tracks('Wednesday', 'Springfield'))"
   ]
  },
  {
   "cell_type": "code",
   "execution_count": 114,
   "metadata": {},
   "outputs": [
    {
     "name": "stdout",
     "output_type": "stream",
     "text": [
      "7003\n"
     ]
    }
   ],
   "source": [
    "# Numero de reproducciones en Shelbyville en Miercoles\n",
    "print(number_tracks('Wednesday', 'Shelbyville'))"
   ]
  },
  {
   "cell_type": "code",
   "execution_count": 116,
   "metadata": {},
   "outputs": [
    {
     "name": "stdout",
     "output_type": "stream",
     "text": [
      "15945\n"
     ]
    }
   ],
   "source": [
    "# Numero de reproducciones en  Springfield en Viernes\n",
    "print(number_tracks('Friday', 'Springfield'))"
   ]
  },
  {
   "cell_type": "code",
   "execution_count": 118,
   "metadata": {},
   "outputs": [
    {
     "name": "stdout",
     "output_type": "stream",
     "text": [
      "5895\n"
     ]
    }
   ],
   "source": [
    "# Numero de reproducciones en Shelbyville en Viernes\n",
    "print(number_tracks('Friday', 'Shelbyville'))"
   ]
  },
  {
   "cell_type": "markdown",
   "metadata": {},
   "source": [
    "Usaremos esos datos para crear una tabla y visualizar mejor los datos por dia y ciudad"
   ]
  },
  {
   "cell_type": "code",
   "execution_count": 121,
   "metadata": {},
   "outputs": [
    {
     "name": "stdout",
     "output_type": "stream",
     "text": [
      "          city  monday  wednesday  friday\n",
      "0  Springfield   15740      11056   15945\n",
      "1  Shelbyville    5614       7003    5895\n"
     ]
    }
   ],
   "source": [
    "# Tabla de resultados\n",
    "table = pd.DataFrame({'city': ['Springfield', 'Shelbyville'], \n",
    "                      'monday': [number_tracks('Monday', 'Springfield'), \n",
    "                                 number_tracks('Monday', 'Shelbyville')], \n",
    "                      'wednesday': [number_tracks('Wednesday', 'Springfield'), \n",
    "                                    number_tracks('Wednesday', 'Shelbyville')], \n",
    "                      'friday': [number_tracks('Friday', 'Springfield'), \n",
    "                                 number_tracks('Friday', 'Shelbyville')]\n",
    "                     })\n",
    "print(table)"
   ]
  },
  {
   "cell_type": "markdown",
   "metadata": {},
   "source": [
    "<p><strong>Conclusiones</strong></p>\n",
    "<p>Los datos revelan diferencias en el comportamiento de los usuarios:</p>\n",
    "<p>En Springfield, el n&uacute;mero de canciones reproducidas alcanza su m&aacute;ximo los lunes y viernes, mientras que los mi&eacute;rcoles disminuye la actividad.</p>\n",
    "<p>En Shelbyville, por el contrario, los usuarios escuchan m&aacute;s m&uacute;sica los mi&eacute;rcoles. La actividad de los usuarios los lunes y viernes es menor.</p>\n",
    "<p>Por lo tanto, la primera hip&oacute;tesis parece correcta.</p>"
   ]
  },
  {
   "cell_type": "markdown",
   "metadata": {},
   "source": [
    "<h2>Hip&oacute;tesis 2:</h2>\n",
    "<p>M&uacute;sica al principio y al final de la semana<br />Seg&uacute;n la segunda hip&oacute;tesis, los lunes por la ma&ntilde;ana y los viernes por la noche, los habitantes de Springfield escuchan g&eacute;neros musicales diferentes a los que disfrutan los habitantes de Shelbyville.</p>\n",
    "<p>&nbsp;</p>"
   ]
  },
  {
   "cell_type": "code",
   "execution_count": 127,
   "metadata": {},
   "outputs": [],
   "source": [
    "# Crear la tabla spr_general a partir de las filas de df donde el valor en la columna 'city' es 'Springfield'\n",
    "spr_general = df[df['city'] == 'Springfield']\n",
    "\n",
    "# Crear la tabla shel_general a partir de las filas de df donde el valor en la columna 'city' es 'Shelbyville'\n",
    "shel_general = df[df['city'] == 'Shelbyville']\n"
   ]
  },
  {
   "cell_type": "markdown",
   "metadata": {},
   "source": [
    "<h3>Funci&oacute;n para Obtener G&eacute;neros</h3>\n",
    "<p>Escribe la funci&oacute;n <code data-code-tools=\"\">genre_weekday()</code> con cuatro par&aacute;metros:</p>\n",
    "<ul>\n",
    "<li>Una tabla de datos (<code data-code-tools=\"\">df</code>)</li>\n",
    "<li>El d&iacute;a de la semana (<code data-code-tools=\"\">day</code>)</li>\n",
    "<li>La primera hora en formato 'hh:mm' (<code data-code-tools=\"\">time1</code>)</li>\n",
    "<li>La &uacute;ltima hora en formato 'hh:mm' (<code data-code-tools=\"\">time2</code>)</li>\n",
    "</ul>\n",
    "<p>La funci&oacute;n debe devolver informaci&oacute;n sobre los 15 g&eacute;neros m&aacute;s populares en un d&iacute;a dado dentro del periodo entre las dos horas.</p>"
   ]
  },
  {
   "cell_type": "code",
   "execution_count": 130,
   "metadata": {},
   "outputs": [],
   "source": [
    "def genre_weekday(df, day, time1, time2):\n",
    "    # Filtrado consecutivo\n",
    "    genre_df = df[(df['day'] == day) & (df['time'] > time1) & (df['time'] < time2)]\n",
    "    \n",
    "    # Agrupar por 'genre' y contar\n",
    "    genre_df_count = genre_df.groupby('genre')['user_id'].count()\n",
    "    \n",
    "    # Ordenar en orden descendente\n",
    "    genre_df_sorted = genre_df_count.sort_values(ascending=False)\n",
    "    \n",
    "    # Retornar los 15 géneros más populares\n",
    "    return genre_df_sorted[:15]\n"
   ]
  },
  {
   "cell_type": "markdown",
   "metadata": {},
   "source": [
    "<h3>Comparaci&oacute;n de Resultados</h3>\n",
    "<p>Compara los resultados de la funci&oacute;n <code data-code-tools=\"\">genre_weekday()</code> para Springfield y Shelbyville los lunes por la ma&ntilde;ana (de 7:00 a 11:00) y los viernes por la noche (de 17:00 a 23:00):</p>"
   ]
  },
  {
   "cell_type": "code",
   "execution_count": 135,
   "metadata": {},
   "outputs": [
    {
     "name": "stdout",
     "output_type": "stream",
     "text": [
      "genre\n",
      "pop            781\n",
      "dance          549\n",
      "electronic     480\n",
      "rock           474\n",
      "hip            281\n",
      "ruspop         186\n",
      "world          181\n",
      "rusrap         175\n",
      "alternative    164\n",
      "unknown        161\n",
      "classical      157\n",
      "metal          120\n",
      "jazz           100\n",
      "folk            97\n",
      "soundtrack      95\n",
      "Name: user_id, dtype: int64\n",
      "genre\n",
      "pop            218\n",
      "dance          182\n",
      "rock           162\n",
      "electronic     147\n",
      "hip             79\n",
      "ruspop          64\n",
      "alternative     58\n",
      "rusrap          55\n",
      "jazz            44\n",
      "classical       40\n",
      "world           36\n",
      "rap             32\n",
      "soundtrack      31\n",
      "rnb             27\n",
      "metal           27\n",
      "Name: user_id, dtype: int64\n",
      "genre\n",
      "pop            713\n",
      "rock           517\n",
      "dance          495\n",
      "electronic     482\n",
      "hip            267\n",
      "world          208\n",
      "ruspop         170\n",
      "classical      163\n",
      "alternative    163\n",
      "rusrap         142\n",
      "jazz           111\n",
      "unknown        110\n",
      "soundtrack     105\n",
      "rnb             90\n",
      "metal           88\n",
      "Name: user_id, dtype: int64\n",
      "genre\n",
      "pop            256\n",
      "electronic     216\n",
      "rock           216\n",
      "dance          210\n",
      "hip             94\n",
      "alternative     63\n",
      "jazz            61\n",
      "classical       60\n",
      "rusrap          59\n",
      "world           54\n",
      "unknown         47\n",
      "ruspop          47\n",
      "soundtrack      40\n",
      "metal           39\n",
      "rap             36\n",
      "Name: user_id, dtype: int64\n"
     ]
    }
   ],
   "source": [
    "# Llamada para el lunes por la mañana en Springfield\n",
    "print(genre_weekday(spr_general, 'Monday', '07:00', '11:00'))\n",
    "\n",
    "# Llamada para el lunes por la mañana en Shelbyville\n",
    "print(genre_weekday(shel_general, 'Monday', '07:00', '11:00'))\n",
    "\n",
    "# Llamada para el viernes por la noche en Springfield\n",
    "print(genre_weekday(spr_general, 'Friday', '17:00', '23:00'))\n",
    "\n",
    "# Llamada para el viernes por la noche en Shelbyville\n",
    "print(genre_weekday(shel_general, 'Friday', '17:00', '23:00'))\n"
   ]
  },
  {
   "cell_type": "markdown",
   "metadata": {},
   "source": [
    "<h3>Conclusiones</h3>\n",
    "<p>Al comparar los 15 g&eacute;neros principales el lunes por la ma&ntilde;ana, podemos concluir:</p>\n",
    "<ol>\n",
    "<li>Los usuarios de Springfield y Shelbyville escuchan m&uacute;sica similar. Los cinco g&eacute;neros principales son los mismos, solo que rock y electronic cambian de lugar.</li>\n",
    "<li>En Springfield, el n&uacute;mero de valores faltantes fue tan grande que el valor 'unknown' qued&oacute; en el d&eacute;cimo lugar. Esto significa que los valores faltantes constituyen una porci&oacute;n considerable de los datos, lo que podr&iacute;a cuestionar la fiabilidad de nuestras conclusiones.</li>\n",
    "</ol>\n",
    "<p>Para el viernes por la noche, la situaci&oacute;n es similar. Los g&eacute;neros individuales var&iacute;an un poco, pero en general, los 15 principales son similares para ambas ciudades.</p>\n",
    "<p>Por lo tanto, la segunda hip&oacute;tesis se ha demostrado parcialmente cierta: los usuarios escuchan m&uacute;sica similar al inicio y al final de la semana. No hay una gran diferencia entre Springfield y Shelbyville. En ambas ciudades, el pop es el g&eacute;nero m&aacute;s popular. Sin embargo, el n&uacute;mero de valores faltantes hace que este resultado sea cuestionable. En Springfield, hay tantos que afectan nuestro top 15. Si no faltaran estos valores, las cosas podr&iacute;an ser diferentes.</p>"
   ]
  },
  {
   "cell_type": "markdown",
   "metadata": {},
   "source": [
    "<h2>Hip&oacute;tesis 3: Preferencias de g&eacute;nero en Springfield y Shelbyville</h2>\n",
    "<p>Hip&oacute;tesis: A Shelbyville le encanta la m&uacute;sica rap. Los ciudadanos de Springfield prefieren el pop.</p>\n"
   ]
  },
  {
   "cell_type": "code",
   "execution_count": 146,
   "metadata": {},
   "outputs": [
    {
     "name": "stdout",
     "output_type": "stream",
     "text": [
      "genre\n",
      "pop            5892\n",
      "dance          4435\n",
      "rock           3965\n",
      "electronic     3786\n",
      "hip            2041\n",
      "classical      1616\n",
      "world          1432\n",
      "alternative    1379\n",
      "ruspop         1372\n",
      "rusrap         1161\n",
      "Name: genre, dtype: int64\n"
     ]
    }
   ],
   "source": [
    "# Agrupar la tabla spr_general por la columna 'genre', contar los valores de 'genre' y ordenar\n",
    "spr_genres = spr_general.groupby('genre')['genre'].count().sort_values(ascending=False)\n",
    "\n",
    "# Imprimir las primeras 10 filas de spr_genres\n",
    "print(spr_genres.head(10))"
   ]
  },
  {
   "cell_type": "markdown",
   "metadata": {},
   "source": [
    "Ahora hacemos lo mismo con los datos de Shelbyville."
   ]
  },
  {
   "cell_type": "code",
   "execution_count": 151,
   "metadata": {},
   "outputs": [
    {
     "name": "stdout",
     "output_type": "stream",
     "text": [
      "genre\n",
      "pop            2431\n",
      "dance          1932\n",
      "rock           1879\n",
      "electronic     1736\n",
      "hip             934\n",
      "alternative     649\n",
      "classical       646\n",
      "rusrap          564\n",
      "ruspop          538\n",
      "world           515\n",
      "Name: genre, dtype: int64\n"
     ]
    }
   ],
   "source": [
    "# Agrupar la tabla shel_general por la columna 'genre', contar los valores de 'genre' y ordenar\n",
    "shel_genres = shel_general.groupby('genre')['genre'].count().sort_values(ascending=False)\n",
    "\n",
    "# Imprimir las primeras 10 filas de shel_genres\n",
    "print(shel_genres.head(10))\n"
   ]
  },
  {
   "cell_type": "markdown",
   "metadata": {},
   "source": [
    "<h3>Conclusiones</h3>\n",
    "<p>La hip&oacute;tesis se ha demostrado parcialmente cierta:</p>\n",
    "<ul>\n",
    "<li>La m&uacute;sica pop es el g&eacute;nero m&aacute;s popular en Springfield, como se esperaba.</li>\n",
    "<li>Sin embargo, la m&uacute;sica pop result&oacute; ser igualmente popular en Springfield y Shelbyville, y el rap no estuvo entre los 5 principales para ninguna de las ciudades.</li>\n",
    "</ul>"
   ]
  },
  {
   "cell_type": "markdown",
   "metadata": {},
   "source": [
    "Conclusiones Finales\n",
    "Hemos probado las siguientes tres hipótesis:\n",
    "\n",
    "La actividad de los usuarios varía según el día de la semana y de una ciudad a otra.\n",
    "Los lunes por la mañana, los residentes de Springfield y Shelbyville escuchan géneros diferentes. Esto también es cierto para los viernes por la noche.\n",
    "Los oyentes de Springfield y Shelbyville tienen diferentes preferencias. En ambas ciudades, prefieren el pop."
   ]
  },
  {
   "cell_type": "markdown",
   "metadata": {},
   "source": [
    "<h2>Conclusiones Finales</h2>\n",
    "<p>Hemos probado las siguientes tres hip&oacute;tesis:</p>\n",
    "<ol>\n",
    "<li>La actividad de los usuarios var&iacute;a seg&uacute;n el d&iacute;a de la semana y de una ciudad a otra.</li>\n",
    "<li>Los lunes por la ma&ntilde;ana, los residentes de Springfield y Shelbyville escuchan g&eacute;neros diferentes. Esto tambi&eacute;n es cierto para los viernes por la noche.</li>\n",
    "<li>Los oyentes de Springfield y Shelbyville tienen diferentes preferencias. En ambas ciudades, prefieren el pop.</li>\n",
    "</ol>"
   ]
  },
  {
   "cell_type": "markdown",
   "metadata": {},
   "source": [
    "<h3>Resultados del An&aacute;lisis</h3>\n",
    "<ol>\n",
    "<li>La actividad de los usuarios en Springfield y Shelbyville depende del d&iacute;a de la semana, aunque las ciudades var&iacute;an de diferentes maneras. La primera hip&oacute;tesis se acepta completamente.</li>\n",
    "<li>Las preferencias musicales no var&iacute;an significativamente a lo largo de la semana en Springfield y Shelbyville. Podemos ver peque&ntilde;as diferencias en el orden los lunes, pero en ambas ciudades, la gente escucha principalmente m&uacute;sica pop. Por lo tanto, no podemos aceptar esta hip&oacute;tesis. Tambi&eacute;n debemos tener en cuenta que el resultado podr&iacute;a haber sido diferente si no fuera por los valores faltantes.</li>\n",
    "<li>Resulta que las preferencias musicales de los usuarios de Springfield y Shelbyville son bastante similares. La tercera hip&oacute;tesis es rechazada. Si hay alguna diferencia en las preferencias, no se puede ver con estos datos.</li>\n",
    "</ol>\n",
    "<h3>Nota</h3>\n",
    "<p>En proyectos reales, la investigaci&oacute;n implica pruebas estad&iacute;sticas de hip&oacute;tesis, que son m&aacute;s precisas y cuantitativas. Adem&aacute;s, debemos tener en cuenta que no siempre se pueden sacar conclusiones sobre una ciudad entera bas&aacute;ndose en los datos de una sola fuente.</p>"
   ]
  },
  {
   "cell_type": "code",
   "execution_count": null,
   "metadata": {},
   "outputs": [],
   "source": []
  }
 ],
 "metadata": {
  "colab": {
   "provenance": []
  },
  "kernelspec": {
   "display_name": "Python [conda env:base] *",
   "language": "python",
   "name": "conda-base-py"
  },
  "language_info": {
   "codemirror_mode": {
    "name": "ipython",
    "version": 3
   },
   "file_extension": ".py",
   "mimetype": "text/x-python",
   "name": "python",
   "nbconvert_exporter": "python",
   "pygments_lexer": "ipython3",
   "version": "3.12.7"
  },
  "toc": {
   "base_numbering": 1,
   "nav_menu": {},
   "number_sections": true,
   "sideBar": true,
   "skip_h1_title": true,
   "title_cell": "Table of Contents",
   "title_sidebar": "Contents",
   "toc_cell": false,
   "toc_position": {},
   "toc_section_display": true,
   "toc_window_display": false
  }
 },
 "nbformat": 4,
 "nbformat_minor": 4
}
